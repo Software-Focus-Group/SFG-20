{
 "cells": [
  {
   "cell_type": "code",
   "execution_count": 1,
   "metadata": {},
   "outputs": [],
   "source": [
    "import pandas as pd\n",
    "import matplotlib.pyplot as plt\n",
    "from datetime import datetime"
   ]
  },
  {
   "cell_type": "code",
   "execution_count": 2,
   "metadata": {},
   "outputs": [],
   "source": [
    "tweets = pd.read_csv(\"tweets.csv\")"
   ]
  },
  {
   "cell_type": "code",
   "execution_count": 3,
   "metadata": {},
   "outputs": [
    {
     "data": {
      "text/html": [
       "<div>\n",
       "<style scoped>\n",
       "    .dataframe tbody tr th:only-of-type {\n",
       "        vertical-align: middle;\n",
       "    }\n",
       "\n",
       "    .dataframe tbody tr th {\n",
       "        vertical-align: top;\n",
       "    }\n",
       "\n",
       "    .dataframe thead th {\n",
       "        text-align: right;\n",
       "    }\n",
       "</style>\n",
       "<table border=\"1\" class=\"dataframe\">\n",
       "  <thead>\n",
       "    <tr style=\"text-align: right;\">\n",
       "      <th></th>\n",
       "      <th>id</th>\n",
       "      <th>id_str</th>\n",
       "      <th>user_location</th>\n",
       "      <th>user_bg_color</th>\n",
       "      <th>retweet_count</th>\n",
       "      <th>user_name</th>\n",
       "      <th>polarity</th>\n",
       "      <th>created</th>\n",
       "      <th>geo</th>\n",
       "      <th>user_description</th>\n",
       "      <th>user_created</th>\n",
       "      <th>user_followers</th>\n",
       "      <th>coordinates</th>\n",
       "      <th>subjectivity</th>\n",
       "      <th>text</th>\n",
       "    </tr>\n",
       "  </thead>\n",
       "  <tbody>\n",
       "    <tr>\n",
       "      <td>0</td>\n",
       "      <td>1</td>\n",
       "      <td>729828033092149248</td>\n",
       "      <td>Wheeling WV</td>\n",
       "      <td>022330</td>\n",
       "      <td>0</td>\n",
       "      <td>Jaybo26003</td>\n",
       "      <td>0.000000</td>\n",
       "      <td>2016-05-10T00:18:57</td>\n",
       "      <td>NaN</td>\n",
       "      <td>NaN</td>\n",
       "      <td>2011-11-17T02:45:42</td>\n",
       "      <td>39</td>\n",
       "      <td>NaN</td>\n",
       "      <td>0.000000</td>\n",
       "      <td>Make a difference vote! WV Bernie Sanders Coul...</td>\n",
       "    </tr>\n",
       "    <tr>\n",
       "      <td>1</td>\n",
       "      <td>2</td>\n",
       "      <td>729828033092161537</td>\n",
       "      <td>NaN</td>\n",
       "      <td>C0DEED</td>\n",
       "      <td>0</td>\n",
       "      <td>brittttany_ns</td>\n",
       "      <td>0.150000</td>\n",
       "      <td>2016-05-10T00:18:57</td>\n",
       "      <td>NaN</td>\n",
       "      <td>18 // PSJAN</td>\n",
       "      <td>2012-12-24T17:33:12</td>\n",
       "      <td>1175</td>\n",
       "      <td>NaN</td>\n",
       "      <td>0.100000</td>\n",
       "      <td>RT @HlPHOPNEWS: T.I. says if Donald Trump wins...</td>\n",
       "    </tr>\n",
       "    <tr>\n",
       "      <td>2</td>\n",
       "      <td>3</td>\n",
       "      <td>729828033566224384</td>\n",
       "      <td>NaN</td>\n",
       "      <td>C0DEED</td>\n",
       "      <td>0</td>\n",
       "      <td>JeffriesLori</td>\n",
       "      <td>0.000000</td>\n",
       "      <td>2016-05-10T00:18:57</td>\n",
       "      <td>NaN</td>\n",
       "      <td>NaN</td>\n",
       "      <td>2012-10-11T14:29:59</td>\n",
       "      <td>42</td>\n",
       "      <td>NaN</td>\n",
       "      <td>0.000000</td>\n",
       "      <td>You have no one to blame but yourselves if Tru...</td>\n",
       "    </tr>\n",
       "    <tr>\n",
       "      <td>3</td>\n",
       "      <td>4</td>\n",
       "      <td>729828033893302272</td>\n",
       "      <td>global</td>\n",
       "      <td>C0DEED</td>\n",
       "      <td>0</td>\n",
       "      <td>WhorunsGOVs</td>\n",
       "      <td>0.000000</td>\n",
       "      <td>2016-05-10T00:18:57</td>\n",
       "      <td>NaN</td>\n",
       "      <td>Get Latest Global Political news as they unfold</td>\n",
       "      <td>2014-02-16T07:34:24</td>\n",
       "      <td>290</td>\n",
       "      <td>NaN</td>\n",
       "      <td>0.000000</td>\n",
       "      <td>'Ruin the rest of their lives': Donald Trump c...</td>\n",
       "    </tr>\n",
       "    <tr>\n",
       "      <td>4</td>\n",
       "      <td>5</td>\n",
       "      <td>729828034178482177</td>\n",
       "      <td>California, USA</td>\n",
       "      <td>131516</td>\n",
       "      <td>0</td>\n",
       "      <td>BJCG0830</td>\n",
       "      <td>0.000000</td>\n",
       "      <td>2016-05-10T00:18:57</td>\n",
       "      <td>NaN</td>\n",
       "      <td>Queer Latino invoking his 1st amendment privil...</td>\n",
       "      <td>2009-03-21T01:43:26</td>\n",
       "      <td>354</td>\n",
       "      <td>NaN</td>\n",
       "      <td>0.000000</td>\n",
       "      <td>RT @elianayjohnson: Per source, GOP megadonor ...</td>\n",
       "    </tr>\n",
       "    <tr>\n",
       "      <td>...</td>\n",
       "      <td>...</td>\n",
       "      <td>...</td>\n",
       "      <td>...</td>\n",
       "      <td>...</td>\n",
       "      <td>...</td>\n",
       "      <td>...</td>\n",
       "      <td>...</td>\n",
       "      <td>...</td>\n",
       "      <td>...</td>\n",
       "      <td>...</td>\n",
       "      <td>...</td>\n",
       "      <td>...</td>\n",
       "      <td>...</td>\n",
       "      <td>...</td>\n",
       "      <td>...</td>\n",
       "    </tr>\n",
       "    <tr>\n",
       "      <td>237475</td>\n",
       "      <td>237476</td>\n",
       "      <td>730091164498575365</td>\n",
       "      <td>Karachi</td>\n",
       "      <td>C0DEED</td>\n",
       "      <td>0</td>\n",
       "      <td>DHQLounge</td>\n",
       "      <td>-0.035714</td>\n",
       "      <td>2016-05-10T17:44:32</td>\n",
       "      <td>NaN</td>\n",
       "      <td>Its all about Digital World!</td>\n",
       "      <td>2013-12-20T11:20:21</td>\n",
       "      <td>558</td>\n",
       "      <td>NaN</td>\n",
       "      <td>0.607143</td>\n",
       "      <td>#Dating site pairs Americans fleeing a possibl...</td>\n",
       "    </tr>\n",
       "    <tr>\n",
       "      <td>237476</td>\n",
       "      <td>237477</td>\n",
       "      <td>730091164779454464</td>\n",
       "      <td>NaN</td>\n",
       "      <td>C0DEED</td>\n",
       "      <td>0</td>\n",
       "      <td>MguzmanMichele</td>\n",
       "      <td>0.000000</td>\n",
       "      <td>2016-05-10T17:44:32</td>\n",
       "      <td>NaN</td>\n",
       "      <td>NaN</td>\n",
       "      <td>2015-09-11T15:31:36</td>\n",
       "      <td>87</td>\n",
       "      <td>NaN</td>\n",
       "      <td>0.000000</td>\n",
       "      <td>RT @lea_ejanda: Bernie Sanders Sacramento, Cal...</td>\n",
       "    </tr>\n",
       "    <tr>\n",
       "      <td>237477</td>\n",
       "      <td>237478</td>\n",
       "      <td>730091165052080128</td>\n",
       "      <td>Melbourne</td>\n",
       "      <td>C0DEED</td>\n",
       "      <td>0</td>\n",
       "      <td>RaisingHopeAust</td>\n",
       "      <td>-0.316667</td>\n",
       "      <td>2016-05-10T17:44:32</td>\n",
       "      <td>NaN</td>\n",
       "      <td>Study conflict zones, analysis, politics, no a...</td>\n",
       "      <td>2011-04-09T02:04:10</td>\n",
       "      <td>530</td>\n",
       "      <td>NaN</td>\n",
       "      <td>0.516667</td>\n",
       "      <td>RT @ShaunKing: DISGUSTING.\\n\\nA Trump supporti...</td>\n",
       "    </tr>\n",
       "    <tr>\n",
       "      <td>237478</td>\n",
       "      <td>237479</td>\n",
       "      <td>730091165157105665</td>\n",
       "      <td>Petal, MS/Oxford, MS</td>\n",
       "      <td>C0DEED</td>\n",
       "      <td>0</td>\n",
       "      <td>CoonandFriends3</td>\n",
       "      <td>0.011111</td>\n",
       "      <td>2016-05-10T17:44:32</td>\n",
       "      <td>NaN</td>\n",
       "      <td>UM | Secy of @YoungDemsMS | Pres of @um_democr...</td>\n",
       "      <td>2012-01-19T03:43:47</td>\n",
       "      <td>870</td>\n",
       "      <td>NaN</td>\n",
       "      <td>0.288889</td>\n",
       "      <td>RT @MayorofLondon: Trump's ignorant view of Is...</td>\n",
       "    </tr>\n",
       "    <tr>\n",
       "      <td>237479</td>\n",
       "      <td>237480</td>\n",
       "      <td>730091163080896512</td>\n",
       "      <td>NaN</td>\n",
       "      <td>FDF7D5</td>\n",
       "      <td>0</td>\n",
       "      <td>1230WSOK</td>\n",
       "      <td>0.136364</td>\n",
       "      <td>2016-05-10T17:44:32</td>\n",
       "      <td>NaN</td>\n",
       "      <td>NaN</td>\n",
       "      <td>2009-11-11T20:20:09</td>\n",
       "      <td>93</td>\n",
       "      <td>NaN</td>\n",
       "      <td>0.454545</td>\n",
       "      <td>New Poll: Trump Leads In Ohio, Tied With Hilla...</td>\n",
       "    </tr>\n",
       "  </tbody>\n",
       "</table>\n",
       "<p>237480 rows × 15 columns</p>\n",
       "</div>"
      ],
      "text/plain": [
       "            id              id_str         user_location user_bg_color  \\\n",
       "0            1  729828033092149248           Wheeling WV        022330   \n",
       "1            2  729828033092161537                   NaN        C0DEED   \n",
       "2            3  729828033566224384                   NaN        C0DEED   \n",
       "3            4  729828033893302272                global        C0DEED   \n",
       "4            5  729828034178482177       California, USA        131516   \n",
       "...        ...                 ...                   ...           ...   \n",
       "237475  237476  730091164498575365               Karachi        C0DEED   \n",
       "237476  237477  730091164779454464                   NaN        C0DEED   \n",
       "237477  237478  730091165052080128             Melbourne        C0DEED   \n",
       "237478  237479  730091165157105665  Petal, MS/Oxford, MS        C0DEED   \n",
       "237479  237480  730091163080896512                   NaN        FDF7D5   \n",
       "\n",
       "        retweet_count        user_name  polarity              created  geo  \\\n",
       "0                   0       Jaybo26003  0.000000  2016-05-10T00:18:57  NaN   \n",
       "1                   0    brittttany_ns  0.150000  2016-05-10T00:18:57  NaN   \n",
       "2                   0     JeffriesLori  0.000000  2016-05-10T00:18:57  NaN   \n",
       "3                   0      WhorunsGOVs  0.000000  2016-05-10T00:18:57  NaN   \n",
       "4                   0         BJCG0830  0.000000  2016-05-10T00:18:57  NaN   \n",
       "...               ...              ...       ...                  ...  ...   \n",
       "237475              0        DHQLounge -0.035714  2016-05-10T17:44:32  NaN   \n",
       "237476              0   MguzmanMichele  0.000000  2016-05-10T17:44:32  NaN   \n",
       "237477              0  RaisingHopeAust -0.316667  2016-05-10T17:44:32  NaN   \n",
       "237478              0  CoonandFriends3  0.011111  2016-05-10T17:44:32  NaN   \n",
       "237479              0         1230WSOK  0.136364  2016-05-10T17:44:32  NaN   \n",
       "\n",
       "                                         user_description  \\\n",
       "0                                                     NaN   \n",
       "1                                             18 // PSJAN   \n",
       "2                                                     NaN   \n",
       "3         Get Latest Global Political news as they unfold   \n",
       "4       Queer Latino invoking his 1st amendment privil...   \n",
       "...                                                   ...   \n",
       "237475                       Its all about Digital World!   \n",
       "237476                                                NaN   \n",
       "237477  Study conflict zones, analysis, politics, no a...   \n",
       "237478  UM | Secy of @YoungDemsMS | Pres of @um_democr...   \n",
       "237479                                                NaN   \n",
       "\n",
       "               user_created  user_followers coordinates  subjectivity  \\\n",
       "0       2011-11-17T02:45:42              39         NaN      0.000000   \n",
       "1       2012-12-24T17:33:12            1175         NaN      0.100000   \n",
       "2       2012-10-11T14:29:59              42         NaN      0.000000   \n",
       "3       2014-02-16T07:34:24             290         NaN      0.000000   \n",
       "4       2009-03-21T01:43:26             354         NaN      0.000000   \n",
       "...                     ...             ...         ...           ...   \n",
       "237475  2013-12-20T11:20:21             558         NaN      0.607143   \n",
       "237476  2015-09-11T15:31:36              87         NaN      0.000000   \n",
       "237477  2011-04-09T02:04:10             530         NaN      0.516667   \n",
       "237478  2012-01-19T03:43:47             870         NaN      0.288889   \n",
       "237479  2009-11-11T20:20:09              93         NaN      0.454545   \n",
       "\n",
       "                                                     text  \n",
       "0       Make a difference vote! WV Bernie Sanders Coul...  \n",
       "1       RT @HlPHOPNEWS: T.I. says if Donald Trump wins...  \n",
       "2       You have no one to blame but yourselves if Tru...  \n",
       "3       'Ruin the rest of their lives': Donald Trump c...  \n",
       "4       RT @elianayjohnson: Per source, GOP megadonor ...  \n",
       "...                                                   ...  \n",
       "237475  #Dating site pairs Americans fleeing a possibl...  \n",
       "237476  RT @lea_ejanda: Bernie Sanders Sacramento, Cal...  \n",
       "237477  RT @ShaunKing: DISGUSTING.\\n\\nA Trump supporti...  \n",
       "237478  RT @MayorofLondon: Trump's ignorant view of Is...  \n",
       "237479  New Poll: Trump Leads In Ohio, Tied With Hilla...  \n",
       "\n",
       "[237480 rows x 15 columns]"
      ]
     },
     "execution_count": 3,
     "metadata": {},
     "output_type": "execute_result"
    }
   ],
   "source": [
    "tweets"
   ]
  },
  {
   "cell_type": "code",
   "execution_count": 4,
   "metadata": {},
   "outputs": [
    {
     "data": {
      "text/html": [
       "<div>\n",
       "<style scoped>\n",
       "    .dataframe tbody tr th:only-of-type {\n",
       "        vertical-align: middle;\n",
       "    }\n",
       "\n",
       "    .dataframe tbody tr th {\n",
       "        vertical-align: top;\n",
       "    }\n",
       "\n",
       "    .dataframe thead th {\n",
       "        text-align: right;\n",
       "    }\n",
       "</style>\n",
       "<table border=\"1\" class=\"dataframe\">\n",
       "  <thead>\n",
       "    <tr style=\"text-align: right;\">\n",
       "      <th></th>\n",
       "      <th>id</th>\n",
       "      <th>id_str</th>\n",
       "      <th>user_location</th>\n",
       "      <th>user_bg_color</th>\n",
       "      <th>retweet_count</th>\n",
       "      <th>user_name</th>\n",
       "      <th>polarity</th>\n",
       "      <th>created</th>\n",
       "      <th>geo</th>\n",
       "      <th>user_description</th>\n",
       "      <th>user_created</th>\n",
       "      <th>user_followers</th>\n",
       "      <th>coordinates</th>\n",
       "      <th>subjectivity</th>\n",
       "      <th>text</th>\n",
       "    </tr>\n",
       "  </thead>\n",
       "  <tbody>\n",
       "    <tr>\n",
       "      <td>0</td>\n",
       "      <td>1</td>\n",
       "      <td>729828033092149248</td>\n",
       "      <td>Wheeling WV</td>\n",
       "      <td>022330</td>\n",
       "      <td>0</td>\n",
       "      <td>Jaybo26003</td>\n",
       "      <td>0.00</td>\n",
       "      <td>2016-05-10T00:18:57</td>\n",
       "      <td>NaN</td>\n",
       "      <td>NaN</td>\n",
       "      <td>2011-11-17T02:45:42</td>\n",
       "      <td>39</td>\n",
       "      <td>NaN</td>\n",
       "      <td>0.0</td>\n",
       "      <td>Make a difference vote! WV Bernie Sanders Coul...</td>\n",
       "    </tr>\n",
       "    <tr>\n",
       "      <td>1</td>\n",
       "      <td>2</td>\n",
       "      <td>729828033092161537</td>\n",
       "      <td>NaN</td>\n",
       "      <td>C0DEED</td>\n",
       "      <td>0</td>\n",
       "      <td>brittttany_ns</td>\n",
       "      <td>0.15</td>\n",
       "      <td>2016-05-10T00:18:57</td>\n",
       "      <td>NaN</td>\n",
       "      <td>18 // PSJAN</td>\n",
       "      <td>2012-12-24T17:33:12</td>\n",
       "      <td>1175</td>\n",
       "      <td>NaN</td>\n",
       "      <td>0.1</td>\n",
       "      <td>RT @HlPHOPNEWS: T.I. says if Donald Trump wins...</td>\n",
       "    </tr>\n",
       "    <tr>\n",
       "      <td>2</td>\n",
       "      <td>3</td>\n",
       "      <td>729828033566224384</td>\n",
       "      <td>NaN</td>\n",
       "      <td>C0DEED</td>\n",
       "      <td>0</td>\n",
       "      <td>JeffriesLori</td>\n",
       "      <td>0.00</td>\n",
       "      <td>2016-05-10T00:18:57</td>\n",
       "      <td>NaN</td>\n",
       "      <td>NaN</td>\n",
       "      <td>2012-10-11T14:29:59</td>\n",
       "      <td>42</td>\n",
       "      <td>NaN</td>\n",
       "      <td>0.0</td>\n",
       "      <td>You have no one to blame but yourselves if Tru...</td>\n",
       "    </tr>\n",
       "    <tr>\n",
       "      <td>3</td>\n",
       "      <td>4</td>\n",
       "      <td>729828033893302272</td>\n",
       "      <td>global</td>\n",
       "      <td>C0DEED</td>\n",
       "      <td>0</td>\n",
       "      <td>WhorunsGOVs</td>\n",
       "      <td>0.00</td>\n",
       "      <td>2016-05-10T00:18:57</td>\n",
       "      <td>NaN</td>\n",
       "      <td>Get Latest Global Political news as they unfold</td>\n",
       "      <td>2014-02-16T07:34:24</td>\n",
       "      <td>290</td>\n",
       "      <td>NaN</td>\n",
       "      <td>0.0</td>\n",
       "      <td>'Ruin the rest of their lives': Donald Trump c...</td>\n",
       "    </tr>\n",
       "    <tr>\n",
       "      <td>4</td>\n",
       "      <td>5</td>\n",
       "      <td>729828034178482177</td>\n",
       "      <td>California, USA</td>\n",
       "      <td>131516</td>\n",
       "      <td>0</td>\n",
       "      <td>BJCG0830</td>\n",
       "      <td>0.00</td>\n",
       "      <td>2016-05-10T00:18:57</td>\n",
       "      <td>NaN</td>\n",
       "      <td>Queer Latino invoking his 1st amendment privil...</td>\n",
       "      <td>2009-03-21T01:43:26</td>\n",
       "      <td>354</td>\n",
       "      <td>NaN</td>\n",
       "      <td>0.0</td>\n",
       "      <td>RT @elianayjohnson: Per source, GOP megadonor ...</td>\n",
       "    </tr>\n",
       "  </tbody>\n",
       "</table>\n",
       "</div>"
      ],
      "text/plain": [
       "   id              id_str    user_location user_bg_color  retweet_count  \\\n",
       "0   1  729828033092149248      Wheeling WV        022330              0   \n",
       "1   2  729828033092161537              NaN        C0DEED              0   \n",
       "2   3  729828033566224384              NaN        C0DEED              0   \n",
       "3   4  729828033893302272           global        C0DEED              0   \n",
       "4   5  729828034178482177  California, USA        131516              0   \n",
       "\n",
       "       user_name  polarity              created  geo  \\\n",
       "0     Jaybo26003      0.00  2016-05-10T00:18:57  NaN   \n",
       "1  brittttany_ns      0.15  2016-05-10T00:18:57  NaN   \n",
       "2   JeffriesLori      0.00  2016-05-10T00:18:57  NaN   \n",
       "3    WhorunsGOVs      0.00  2016-05-10T00:18:57  NaN   \n",
       "4       BJCG0830      0.00  2016-05-10T00:18:57  NaN   \n",
       "\n",
       "                                    user_description         user_created  \\\n",
       "0                                                NaN  2011-11-17T02:45:42   \n",
       "1                                        18 // PSJAN  2012-12-24T17:33:12   \n",
       "2                                                NaN  2012-10-11T14:29:59   \n",
       "3    Get Latest Global Political news as they unfold  2014-02-16T07:34:24   \n",
       "4  Queer Latino invoking his 1st amendment privil...  2009-03-21T01:43:26   \n",
       "\n",
       "   user_followers coordinates  subjectivity  \\\n",
       "0              39         NaN           0.0   \n",
       "1            1175         NaN           0.1   \n",
       "2              42         NaN           0.0   \n",
       "3             290         NaN           0.0   \n",
       "4             354         NaN           0.0   \n",
       "\n",
       "                                                text  \n",
       "0  Make a difference vote! WV Bernie Sanders Coul...  \n",
       "1  RT @HlPHOPNEWS: T.I. says if Donald Trump wins...  \n",
       "2  You have no one to blame but yourselves if Tru...  \n",
       "3  'Ruin the rest of their lives': Donald Trump c...  \n",
       "4  RT @elianayjohnson: Per source, GOP megadonor ...  "
      ]
     },
     "execution_count": 4,
     "metadata": {},
     "output_type": "execute_result"
    }
   ],
   "source": [
    "tweets.head()"
   ]
  },
  {
   "cell_type": "code",
   "execution_count": 5,
   "metadata": {},
   "outputs": [
    {
     "data": {
      "text/plain": [
       "Index(['id', 'id_str', 'user_location', 'user_bg_color', 'retweet_count',\n",
       "       'user_name', 'polarity', 'created', 'geo', 'user_description',\n",
       "       'user_created', 'user_followers', 'coordinates', 'subjectivity',\n",
       "       'text'],\n",
       "      dtype='object')"
      ]
     },
     "execution_count": 5,
     "metadata": {},
     "output_type": "execute_result"
    }
   ],
   "source": [
    "tweets.columns"
   ]
  },
  {
   "cell_type": "code",
   "execution_count": 6,
   "metadata": {},
   "outputs": [],
   "source": [
    "def get_candidate(row):\n",
    "    candidates = []\n",
    "    text = row[\"text\"].lower()\n",
    "    if \"clinton\" in text or \"hillary\" in text:\n",
    "        candidates.append(\"clinton\")\n",
    "    if \"trump\" in text or \"donald\" in text:\n",
    "        candidates.append(\"trump\")\n",
    "    if \"sanders\" in text or \"bernie\" in text:\n",
    "        candidates.append(\"sanders\")\n",
    "    return \",\".join(candidates)\n",
    "tweets[\"candidate\"] = tweets.apply(get_candidate,axis=1)"
   ]
  },
  {
   "cell_type": "code",
   "execution_count": 7,
   "metadata": {},
   "outputs": [
    {
     "name": "stdout",
     "output_type": "stream",
     "text": [
      "<class 'pandas.core.frame.DataFrame'>\n",
      "RangeIndex: 237480 entries, 0 to 237479\n",
      "Data columns (total 16 columns):\n",
      "id                  237480 non-null int64\n",
      "id_str              237480 non-null int64\n",
      "user_location       153514 non-null object\n",
      "user_bg_color       237480 non-null object\n",
      "retweet_count       237480 non-null int64\n",
      "user_name           237480 non-null object\n",
      "polarity            237480 non-null float64\n",
      "created             237480 non-null object\n",
      "geo                 125 non-null object\n",
      "user_description    191850 non-null object\n",
      "user_created        237480 non-null object\n",
      "user_followers      237480 non-null int64\n",
      "coordinates         125 non-null object\n",
      "subjectivity        237480 non-null float64\n",
      "text                237480 non-null object\n",
      "candidate           237480 non-null object\n",
      "dtypes: float64(2), int64(4), object(10)\n",
      "memory usage: 29.0+ MB\n"
     ]
    }
   ],
   "source": [
    "tweets.info()"
   ]
  },
  {
   "cell_type": "code",
   "execution_count": 8,
   "metadata": {},
   "outputs": [
    {
     "data": {
      "text/plain": [
       "0         clinton,sanders\n",
       "1                   trump\n",
       "2                   trump\n",
       "3                   trump\n",
       "4                   trump\n",
       "               ...       \n",
       "237475              trump\n",
       "237476            sanders\n",
       "237477      trump,sanders\n",
       "237478              trump\n",
       "237479      clinton,trump\n",
       "Name: candidate, Length: 237480, dtype: object"
      ]
     },
     "execution_count": 8,
     "metadata": {},
     "output_type": "execute_result"
    }
   ],
   "source": [
    "tweets[\"candidate\"]"
   ]
  },
  {
   "cell_type": "code",
   "execution_count": 9,
   "metadata": {},
   "outputs": [],
   "source": [
    "import matplotlib.pyplot as plt\n",
    "import numpy as np"
   ]
  },
  {
   "cell_type": "code",
   "execution_count": 10,
   "metadata": {},
   "outputs": [
    {
     "data": {
      "text/plain": [
       "[<matplotlib.lines.Line2D at 0x1b991290248>]"
      ]
     },
     "execution_count": 10,
     "metadata": {},
     "output_type": "execute_result"
    },
    {
     "data": {
      "image/png": "[encoded data removed]",
      "text/plain": [
       "<Figure size 432x288 with 1 Axes>"
      ]
     },
     "metadata": {
      "needs_background": "light"
     },
     "output_type": "display_data"
    }
   ],
   "source": [
    "plt.plot([0,1,2,3,4,5])"
   ]
  },
  {
   "cell_type": "code",
   "execution_count": 11,
   "metadata": {},
   "outputs": [
    {
     "data": {
      "text/plain": [
       "Text(0, 0.5, 'Y axis')"
      ]
     },
     "execution_count": 11,
     "metadata": {},
     "output_type": "execute_result"
    },
    {
     "data": {
      "image/png": "[encoded data removed]",
      "text/plain": [
       "<Figure size 432x288 with 1 Axes>"
      ]
     },
     "metadata": {
      "needs_background": "light"
     },
     "output_type": "display_data"
    }
   ],
   "source": [
    "plt.plot([0,1,2,3,4],[0,1,4,9,16])\n",
    "plt.xlabel(\"X axis\")\n",
    "plt.ylabel(\"Y axis\")"
   ]
  },
  {
   "cell_type": "code",
   "execution_count": 12,
   "metadata": {},
   "outputs": [],
   "source": [
    "sales= [1, 4, 9, 16, 25,36,49, 64]\n",
    "tv = [1, 16, 30, 42,55, 68, 77,88]\n",
    "radio = [1,6,12,18,28, 40, 52, 65]"
   ]
  },
  {
   "cell_type": "code",
   "execution_count": 13,
   "metadata": {},
   "outputs": [
    {
     "data": {
      "image/png": "[encoded data removed]",
      "text/plain": [
       "<Figure size 432x288 with 1 Axes>"
      ]
     },
     "metadata": {
      "needs_background": "light"
     },
     "output_type": "display_data"
    }
   ],
   "source": [
    "plt.plot(tv, sales)\n",
    "plt.xlabel('TV')\n",
    "plt.ylabel('Sales')\n",
    "plt.title('Advertisement effect on sales')\n",
    "plt.show()"
   ]
  },
  {
   "cell_type": "code",
   "execution_count": 14,
   "metadata": {},
   "outputs": [
    {
     "data": {
      "image/png": "[encoded data removed]",
      "text/plain": [
       "<Figure size 432x288 with 1 Axes>"
      ]
     },
     "metadata": {
      "needs_background": "light"
     },
     "output_type": "display_data"
    }
   ],
   "source": [
    "plt.plot(tv,sales, marker='o', linestyle='--', color='r',label='tv')\n",
    "plt.plot(radio,sales, marker='*', linestyle='-', color='g', label='radio')\n",
    "plt.xlabel('Advertisement medium')\n",
    "plt.ylabel('Sales')\n",
    "plt.title('Advertisement effect on sales')\n",
    "plt.legend(loc='lower right')\n",
    "plt.show()"
   ]
  },
  {
   "cell_type": "code",
   "execution_count": 15,
   "metadata": {},
   "outputs": [
    {
     "data": {
      "text/plain": [
       "trump                    119998\n",
       "clinton,trump             30521\n",
       "                          25429\n",
       "sanders                   25351\n",
       "clinton                   22746\n",
       "clinton,sanders            6044\n",
       "clinton,trump,sanders      4219\n",
       "trump,sanders              3172\n",
       "Name: candidate, dtype: int64"
      ]
     },
     "execution_count": 15,
     "metadata": {},
     "output_type": "execute_result"
    }
   ],
   "source": [
    "counts = tweets[\"candidate\"].value_counts()\n",
    "counts"
   ]
  },
  {
   "cell_type": "code",
   "execution_count": 16,
   "metadata": {},
   "outputs": [
    {
     "data": {
      "image/png": "[encoded data removed]",
      "text/plain": [
       "<Figure size 432x288 with 1 Axes>"
      ]
     },
     "metadata": {
      "needs_background": "light"
     },
     "output_type": "display_data"
    }
   ],
   "source": [
    "plt.scatter(range(len(counts)), counts)\n",
    "plt.show()\n"
   ]
  },
  {
   "cell_type": "code",
   "execution_count": 17,
   "metadata": {},
   "outputs": [],
   "source": [
    "tweets[\"created\"] = pd.to_datetime(tweets[\"created\"])\n",
    "tweets[\"user_created\"] = pd.to_datetime(tweets[\"user_created\"])"
   ]
  },
  {
   "cell_type": "code",
   "execution_count": 18,
   "metadata": {},
   "outputs": [
    {
     "data": {
      "image/png": "[encoded data removed]",
      "text/plain": [
       "<Figure size 432x288 with 1 Axes>"
      ]
     },
     "metadata": {
      "needs_background": "light"
     },
     "output_type": "display_data"
    }
   ],
   "source": [
    "tweets[\"user_age\"] = tweets[\"user_created\"].apply(lambda x: (datetime.now() - x).total_seconds() / 3600 / 24 / 365)\n",
    "plt.hist(tweets[\"user_age\"])\n",
    "plt.title(\"Tweets mentioning candidates\")\n",
    "plt.xlabel(\"Twitter account age in years\")\n",
    "plt.ylabel(\"# of tweets\")\n",
    "plt.show()"
   ]
  },
  {
   "cell_type": "code",
   "execution_count": 19,
   "metadata": {},
   "outputs": [
    {
     "data": {
      "image/png": "[encoded data removed]",
      "text/plain": [
       "<Figure size 432x288 with 1 Axes>"
      ]
     },
     "metadata": {
      "needs_background": "light"
     },
     "output_type": "display_data"
    }
   ],
   "source": [
    "cl_tweets = tweets[\"user_age\"][tweets[\"candidate\"] == \"clinton\"]\n",
    "sa_tweets = tweets[\"user_age\"][tweets[\"candidate\"] == \"sanders\"]\n",
    "tr_tweets = tweets[\"user_age\"][tweets[\"candidate\"] == \"trump\"]\n",
    "plt.hist([\n",
    "         cl_tweets,\n",
    "         sa_tweets,\n",
    "         tr_tweets\n",
    "    ],\n",
    "     stacked=True,\n",
    "     label=[\"clinton\", \"sanders\", \"trump\"])\n",
    "plt.legend()\n",
    "plt.title(\"Tweets mentioning each candidate\")\n",
    "plt.xlabel(\"Twitter account age in years\")\n",
    "plt.ylabel(\"# of tweets\")\n",
    "plt.show()"
   ]
  },
  {
   "cell_type": "code",
   "execution_count": null,
   "metadata": {},
   "outputs": [],
   "source": []
  },
  {
   "cell_type": "code",
   "execution_count": 20,
   "metadata": {},
   "outputs": [],
   "source": [
    "import matplotlib.colors as colors\n",
    "tweets[\"red\"] = tweets[\"user_bg_color\"].apply(lambda x: colors.hex2color('#{0}'.format(x))[0])\n",
    "tweets[\"blue\"] = tweets[\"user_bg_color\"].apply(lambda x: colors.hex2color('#{0}'.format(x))[2])"
   ]
  },
  {
   "cell_type": "code",
   "execution_count": 21,
   "metadata": {},
   "outputs": [
    {
     "data": {
      "image/png": "[encoded data removed]",
      "text/plain": [
       "<Figure size 432x288 with 4 Axes>"
      ]
     },
     "metadata": {
      "needs_background": "light"
     },
     "output_type": "display_data"
    }
   ],
   "source": [
    "fig, axes = plt.subplots(nrows=2, ncols=2)\n",
    "ax0, ax1, ax2, ax3 = axes.flat\n",
    "\n",
    "ax0.hist(tweets[\"red\"])\n",
    "ax0.set_title('Red in backgrounds')\n",
    "\n",
    "ax1.hist(tweets[\"red\"][tweets[\"candidate\"] == \"trump\"].values)\n",
    "ax1.set_title('Red in Trump tweeters')\n",
    "\n",
    "ax2.hist(tweets[\"blue\"])\n",
    "ax2.set_title('Blue in backgrounds')\n",
    "\n",
    "ax3.hist(tweets[\"blue\"][tweets[\"candidate\"] == \"trump\"].values)\n",
    "ax3.set_title('Blue in Trump tweeters')\n",
    "plt.tight_layout()\n",
    "plt.show()"
   ]
  },
  {
   "cell_type": "code",
   "execution_count": 22,
   "metadata": {},
   "outputs": [
    {
     "data": {
      "image/png": "[encoded data removed]",
      "text/plain": [
       "<Figure size 504x504 with 2 Axes>"
      ]
     },
     "metadata": {
      "needs_background": "light"
     },
     "output_type": "display_data"
    }
   ],
   "source": [
    "gr = tweets.groupby(\"candidate\").agg([np.mean, np.std])\n",
    "\n",
    "fig, axes = plt.subplots(nrows=2, ncols=1, figsize=(7, 7))\n",
    "ax0, ax1 = axes.flat\n",
    "\n",
    "std = gr[\"polarity\"][\"std\"].iloc[1:]\n",
    "mean = gr[\"polarity\"][\"mean\"].iloc[1:]\n",
    "ax0.bar(range(len(std)), std)\n",
    "ax0.set_xticklabels(std.index, rotation=45)\n",
    "ax0.set_title('Standard deviation of tweet sentiment')\n",
    "\n",
    "ax1.bar(range(len(mean)), mean)\n",
    "ax1.set_xticklabels(mean.index, rotation=45)\n",
    "ax1.set_title('Mean tweet sentiment')\n",
    "\n",
    "plt.tight_layout()\n",
    "plt.show()\n"
   ]
  },
  {
   "cell_type": "code",
   "execution_count": 23,
   "metadata": {},
   "outputs": [
    {
     "data": {
      "text/html": [
       "<div>\n",
       "<style scoped>\n",
       "    .dataframe tbody tr th:only-of-type {\n",
       "        vertical-align: middle;\n",
       "    }\n",
       "\n",
       "    .dataframe tbody tr th {\n",
       "        vertical-align: top;\n",
       "    }\n",
       "\n",
       "    .dataframe thead tr th {\n",
       "        text-align: left;\n",
       "    }\n",
       "\n",
       "    .dataframe thead tr:last-of-type th {\n",
       "        text-align: right;\n",
       "    }\n",
       "</style>\n",
       "<table border=\"1\" class=\"dataframe\">\n",
       "  <thead>\n",
       "    <tr>\n",
       "      <th></th>\n",
       "      <th colspan=\"2\" halign=\"left\">id</th>\n",
       "      <th colspan=\"2\" halign=\"left\">id_str</th>\n",
       "      <th colspan=\"2\" halign=\"left\">retweet_count</th>\n",
       "      <th colspan=\"2\" halign=\"left\">polarity</th>\n",
       "      <th colspan=\"2\" halign=\"left\">user_followers</th>\n",
       "      <th colspan=\"2\" halign=\"left\">subjectivity</th>\n",
       "      <th colspan=\"2\" halign=\"left\">user_age</th>\n",
       "      <th colspan=\"2\" halign=\"left\">red</th>\n",
       "      <th colspan=\"2\" halign=\"left\">blue</th>\n",
       "    </tr>\n",
       "    <tr>\n",
       "      <th></th>\n",
       "      <th>mean</th>\n",
       "      <th>std</th>\n",
       "      <th>mean</th>\n",
       "      <th>std</th>\n",
       "      <th>mean</th>\n",
       "      <th>std</th>\n",
       "      <th>mean</th>\n",
       "      <th>std</th>\n",
       "      <th>mean</th>\n",
       "      <th>std</th>\n",
       "      <th>mean</th>\n",
       "      <th>std</th>\n",
       "      <th>mean</th>\n",
       "      <th>std</th>\n",
       "      <th>mean</th>\n",
       "      <th>std</th>\n",
       "      <th>mean</th>\n",
       "      <th>std</th>\n",
       "    </tr>\n",
       "    <tr>\n",
       "      <th>candidate</th>\n",
       "      <th></th>\n",
       "      <th></th>\n",
       "      <th></th>\n",
       "      <th></th>\n",
       "      <th></th>\n",
       "      <th></th>\n",
       "      <th></th>\n",
       "      <th></th>\n",
       "      <th></th>\n",
       "      <th></th>\n",
       "      <th></th>\n",
       "      <th></th>\n",
       "      <th></th>\n",
       "      <th></th>\n",
       "      <th></th>\n",
       "      <th></th>\n",
       "      <th></th>\n",
       "      <th></th>\n",
       "    </tr>\n",
       "  </thead>\n",
       "  <tbody>\n",
       "    <tr>\n",
       "      <td></td>\n",
       "      <td>114051.183688</td>\n",
       "      <td>69038.411631</td>\n",
       "      <td>729989453839915392</td>\n",
       "      <td>1.139204e+14</td>\n",
       "      <td>0</td>\n",
       "      <td>0.0</td>\n",
       "      <td>0.048885</td>\n",
       "      <td>0.289333</td>\n",
       "      <td>4641.061308</td>\n",
       "      <td>54755.981311</td>\n",
       "      <td>0.276616</td>\n",
       "      <td>0.341894</td>\n",
       "      <td>7.534638</td>\n",
       "      <td>2.524116</td>\n",
       "      <td>0.554687</td>\n",
       "      <td>0.354548</td>\n",
       "      <td>0.654722</td>\n",
       "      <td>0.391827</td>\n",
       "    </tr>\n",
       "    <tr>\n",
       "      <td>clinton</td>\n",
       "      <td>115994.642443</td>\n",
       "      <td>69871.102687</td>\n",
       "      <td>729988642607237504</td>\n",
       "      <td>1.148107e+14</td>\n",
       "      <td>0</td>\n",
       "      <td>0.0</td>\n",
       "      <td>0.026005</td>\n",
       "      <td>0.267020</td>\n",
       "      <td>7758.054955</td>\n",
       "      <td>209809.505874</td>\n",
       "      <td>0.268818</td>\n",
       "      <td>0.314952</td>\n",
       "      <td>7.322501</td>\n",
       "      <td>2.498144</td>\n",
       "      <td>0.580907</td>\n",
       "      <td>0.344258</td>\n",
       "      <td>0.689780</td>\n",
       "      <td>0.376897</td>\n",
       "    </tr>\n",
       "    <tr>\n",
       "      <td>clinton,sanders</td>\n",
       "      <td>123473.587359</td>\n",
       "      <td>64977.660362</td>\n",
       "      <td>730011481452253440</td>\n",
       "      <td>1.040853e+14</td>\n",
       "      <td>0</td>\n",
       "      <td>0.0</td>\n",
       "      <td>0.109311</td>\n",
       "      <td>0.294225</td>\n",
       "      <td>4481.819325</td>\n",
       "      <td>60464.982065</td>\n",
       "      <td>0.300500</td>\n",
       "      <td>0.316764</td>\n",
       "      <td>7.447236</td>\n",
       "      <td>2.491408</td>\n",
       "      <td>0.551454</td>\n",
       "      <td>0.355468</td>\n",
       "      <td>0.650755</td>\n",
       "      <td>0.391646</td>\n",
       "    </tr>\n",
       "    <tr>\n",
       "      <td>clinton,trump</td>\n",
       "      <td>118149.376659</td>\n",
       "      <td>68119.530321</td>\n",
       "      <td>729998900142776576</td>\n",
       "      <td>1.105836e+14</td>\n",
       "      <td>0</td>\n",
       "      <td>0.0</td>\n",
       "      <td>0.038789</td>\n",
       "      <td>0.244355</td>\n",
       "      <td>8143.059336</td>\n",
       "      <td>154826.249151</td>\n",
       "      <td>0.264287</td>\n",
       "      <td>0.309343</td>\n",
       "      <td>7.049652</td>\n",
       "      <td>2.378121</td>\n",
       "      <td>0.602982</td>\n",
       "      <td>0.335776</td>\n",
       "      <td>0.714623</td>\n",
       "      <td>0.367081</td>\n",
       "    </tr>\n",
       "    <tr>\n",
       "      <td>clinton,trump,sanders</td>\n",
       "      <td>134276.423560</td>\n",
       "      <td>57926.692201</td>\n",
       "      <td>730041882827746176</td>\n",
       "      <td>7.844409e+13</td>\n",
       "      <td>0</td>\n",
       "      <td>0.0</td>\n",
       "      <td>0.094801</td>\n",
       "      <td>0.230442</td>\n",
       "      <td>6215.479498</td>\n",
       "      <td>203374.625549</td>\n",
       "      <td>0.348322</td>\n",
       "      <td>0.316337</td>\n",
       "      <td>7.472234</td>\n",
       "      <td>2.544048</td>\n",
       "      <td>0.558014</td>\n",
       "      <td>0.359498</td>\n",
       "      <td>0.656357</td>\n",
       "      <td>0.392673</td>\n",
       "    </tr>\n",
       "    <tr>\n",
       "      <td>sanders</td>\n",
       "      <td>122447.602856</td>\n",
       "      <td>68065.594317</td>\n",
       "      <td>730003281480133376</td>\n",
       "      <td>1.090488e+14</td>\n",
       "      <td>0</td>\n",
       "      <td>0.0</td>\n",
       "      <td>0.101664</td>\n",
       "      <td>0.274370</td>\n",
       "      <td>3650.571812</td>\n",
       "      <td>40678.416413</td>\n",
       "      <td>0.283606</td>\n",
       "      <td>0.320596</td>\n",
       "      <td>7.480997</td>\n",
       "      <td>2.518182</td>\n",
       "      <td>0.554871</td>\n",
       "      <td>0.354363</td>\n",
       "      <td>0.654992</td>\n",
       "      <td>0.389118</td>\n",
       "    </tr>\n",
       "    <tr>\n",
       "      <td>trump</td>\n",
       "      <td>118798.472241</td>\n",
       "      <td>68853.491237</td>\n",
       "      <td>729995756662231168</td>\n",
       "      <td>1.121942e+14</td>\n",
       "      <td>0</td>\n",
       "      <td>0.0</td>\n",
       "      <td>0.072180</td>\n",
       "      <td>0.287278</td>\n",
       "      <td>9526.672786</td>\n",
       "      <td>262583.312202</td>\n",
       "      <td>0.294326</td>\n",
       "      <td>0.323274</td>\n",
       "      <td>7.243460</td>\n",
       "      <td>2.494298</td>\n",
       "      <td>0.587575</td>\n",
       "      <td>0.343957</td>\n",
       "      <td>0.691149</td>\n",
       "      <td>0.377203</td>\n",
       "    </tr>\n",
       "    <tr>\n",
       "      <td>trump,sanders</td>\n",
       "      <td>120208.159836</td>\n",
       "      <td>66415.967730</td>\n",
       "      <td>730002471407623936</td>\n",
       "      <td>1.084844e+14</td>\n",
       "      <td>0</td>\n",
       "      <td>0.0</td>\n",
       "      <td>0.094110</td>\n",
       "      <td>0.281690</td>\n",
       "      <td>7820.137137</td>\n",
       "      <td>200375.334077</td>\n",
       "      <td>0.307191</td>\n",
       "      <td>0.307962</td>\n",
       "      <td>7.513973</td>\n",
       "      <td>2.549388</td>\n",
       "      <td>0.567172</td>\n",
       "      <td>0.350220</td>\n",
       "      <td>0.673444</td>\n",
       "      <td>0.384011</td>\n",
       "    </tr>\n",
       "  </tbody>\n",
       "</table>\n",
       "</div>"
      ],
      "text/plain": [
       "                                  id                            id_str  \\\n",
       "                                mean           std                mean   \n",
       "candidate                                                                \n",
       "                       114051.183688  69038.411631  729989453839915392   \n",
       "clinton                115994.642443  69871.102687  729988642607237504   \n",
       "clinton,sanders        123473.587359  64977.660362  730011481452253440   \n",
       "clinton,trump          118149.376659  68119.530321  729998900142776576   \n",
       "clinton,trump,sanders  134276.423560  57926.692201  730041882827746176   \n",
       "sanders                122447.602856  68065.594317  730003281480133376   \n",
       "trump                  118798.472241  68853.491237  729995756662231168   \n",
       "trump,sanders          120208.159836  66415.967730  730002471407623936   \n",
       "\n",
       "                                    retweet_count       polarity            \\\n",
       "                                std          mean  std      mean       std   \n",
       "candidate                                                                    \n",
       "                       1.139204e+14             0  0.0  0.048885  0.289333   \n",
       "clinton                1.148107e+14             0  0.0  0.026005  0.267020   \n",
       "clinton,sanders        1.040853e+14             0  0.0  0.109311  0.294225   \n",
       "clinton,trump          1.105836e+14             0  0.0  0.038789  0.244355   \n",
       "clinton,trump,sanders  7.844409e+13             0  0.0  0.094801  0.230442   \n",
       "sanders                1.090488e+14             0  0.0  0.101664  0.274370   \n",
       "trump                  1.121942e+14             0  0.0  0.072180  0.287278   \n",
       "trump,sanders          1.084844e+14             0  0.0  0.094110  0.281690   \n",
       "\n",
       "                      user_followers                subjectivity            \\\n",
       "                                mean            std         mean       std   \n",
       "candidate                                                                    \n",
       "                         4641.061308   54755.981311     0.276616  0.341894   \n",
       "clinton                  7758.054955  209809.505874     0.268818  0.314952   \n",
       "clinton,sanders          4481.819325   60464.982065     0.300500  0.316764   \n",
       "clinton,trump            8143.059336  154826.249151     0.264287  0.309343   \n",
       "clinton,trump,sanders    6215.479498  203374.625549     0.348322  0.316337   \n",
       "sanders                  3650.571812   40678.416413     0.283606  0.320596   \n",
       "trump                    9526.672786  262583.312202     0.294326  0.323274   \n",
       "trump,sanders            7820.137137  200375.334077     0.307191  0.307962   \n",
       "\n",
       "                       user_age                 red                blue  \\\n",
       "                           mean       std      mean       std      mean   \n",
       "candidate                                                                 \n",
       "                       7.534638  2.524116  0.554687  0.354548  0.654722   \n",
       "clinton                7.322501  2.498144  0.580907  0.344258  0.689780   \n",
       "clinton,sanders        7.447236  2.491408  0.551454  0.355468  0.650755   \n",
       "clinton,trump          7.049652  2.378121  0.602982  0.335776  0.714623   \n",
       "clinton,trump,sanders  7.472234  2.544048  0.558014  0.359498  0.656357   \n",
       "sanders                7.480997  2.518182  0.554871  0.354363  0.654992   \n",
       "trump                  7.243460  2.494298  0.587575  0.343957  0.691149   \n",
       "trump,sanders          7.513973  2.549388  0.567172  0.350220  0.673444   \n",
       "\n",
       "                                 \n",
       "                            std  \n",
       "candidate                        \n",
       "                       0.391827  \n",
       "clinton                0.376897  \n",
       "clinton,sanders        0.391646  \n",
       "clinton,trump          0.367081  \n",
       "clinton,trump,sanders  0.392673  \n",
       "sanders                0.389118  \n",
       "trump                  0.377203  \n",
       "trump,sanders          0.384011  "
      ]
     },
     "execution_count": 23,
     "metadata": {},
     "output_type": "execute_result"
    }
   ],
   "source": [
    "gr"
   ]
  },
  {
   "cell_type": "code",
   "execution_count": 24,
   "metadata": {},
   "outputs": [
    {
     "data": {
      "image/png": "[encoded data removed]",
      "text/plain": [
       "<Figure size 432x288 with 1 Axes>"
      ]
     },
     "metadata": {},
     "output_type": "display_data"
    }
   ],
   "source": [
    "fig = plt.figure()\n",
    "ax = fig.add_axes([0,0,1,1])\n",
    "ax.axis('equal')\n",
    "langs = ['C', 'C++', 'Java', 'Python', 'PHP']\n",
    "students = [23,17,35,29,12]\n",
    "ax.pie(students, labels = langs,autopct='%1.2f%%')\n",
    "plt.show()"
   ]
  },
  {
   "cell_type": "code",
   "execution_count": null,
   "metadata": {},
   "outputs": [],
   "source": []
  }
 ],
 "metadata": {
  "kernelspec": {
   "display_name": "Python 3",
   "language": "python",
   "name": "python3"
  },
  "language_info": {
   "codemirror_mode": {
    "name": "ipython",
    "version": 3
   },
   "file_extension": ".py",
   "mimetype": "text/x-python",
   "name": "python",
   "nbconvert_exporter": "python",
   "pygments_lexer": "ipython3",
   "version": "3.7.4"
  }
 },
 "nbformat": 4,
 "nbformat_minor": 2
}
